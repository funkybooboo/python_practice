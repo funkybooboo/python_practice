{
 "cells": [
  {
   "cell_type": "code",
   "id": "initial_id",
   "metadata": {
    "collapsed": true,
    "ExecuteTime": {
     "end_time": "2025-09-04T01:46:35.904991Z",
     "start_time": "2025-09-04T01:46:35.833169Z"
    }
   },
   "source": [
    "import numpy as np\n",
    "\n",
    "my_array = np.arange(8)\n",
    "\n",
    "print(my_array)\n",
    "print(type(my_array))\n"
   ],
   "outputs": [
    {
     "name": "stdout",
     "output_type": "stream",
     "text": [
      "[0 1 2 3 4 5 6 7]\n",
      "<class 'numpy.ndarray'>\n"
     ]
    }
   ],
   "execution_count": 1
  },
  {
   "metadata": {
    "ExecuteTime": {
     "end_time": "2025-09-04T01:47:32.345311Z",
     "start_time": "2025-09-04T01:47:32.340422Z"
    }
   },
   "cell_type": "code",
   "source": [
    "my_array = np.arange(1, 8)\n",
    "\n",
    "print(my_array)\n",
    "print(type(my_array))\n"
   ],
   "id": "fd8af38e81057f52",
   "outputs": [
    {
     "name": "stdout",
     "output_type": "stream",
     "text": [
      "[1 2 3 4 5 6 7]\n",
      "<class 'numpy.ndarray'>\n"
     ]
    }
   ],
   "execution_count": 2
  },
  {
   "metadata": {
    "ExecuteTime": {
     "end_time": "2025-09-04T01:47:51.282274Z",
     "start_time": "2025-09-04T01:47:51.277962Z"
    }
   },
   "cell_type": "code",
   "source": [
    "my_array = np.arange(1, 8, 2)\n",
    "\n",
    "print(my_array)\n",
    "print(type(my_array))\n"
   ],
   "id": "9fd79c84e755d781",
   "outputs": [
    {
     "name": "stdout",
     "output_type": "stream",
     "text": [
      "[1 3 5 7]\n",
      "<class 'numpy.ndarray'>\n"
     ]
    }
   ],
   "execution_count": 3
  },
  {
   "metadata": {
    "ExecuteTime": {
     "end_time": "2025-09-04T01:52:15.959045Z",
     "start_time": "2025-09-04T01:52:15.955591Z"
    }
   },
   "cell_type": "code",
   "source": [
    "from_list = np.array([1, 2, 3], dtype=np.int8)\n",
    "\n",
    "print(from_list)\n",
    "print(type(from_list))\n",
    "print(type(from_list[0]))"
   ],
   "id": "cac6689cd3a005b3",
   "outputs": [
    {
     "name": "stdout",
     "output_type": "stream",
     "text": [
      "[1 2 3]\n",
      "<class 'numpy.ndarray'>\n",
      "<class 'numpy.int8'>\n"
     ]
    }
   ],
   "execution_count": 6
  },
  {
   "metadata": {
    "ExecuteTime": {
     "end_time": "2025-09-04T01:53:27.491723Z",
     "start_time": "2025-09-04T01:53:27.487270Z"
    }
   },
   "cell_type": "code",
   "source": [
    "from_2d_list = np.array([[1, 2, 3], [4, 5, 6]], dtype=np.int8)\n",
    "\n",
    "print(from_2d_list)\n",
    "print(type(from_2d_list))\n",
    "print(type(from_2d_list[0]))\n",
    "print(type(from_2d_list[0][0]))"
   ],
   "id": "2b480b0ebc04d5c4",
   "outputs": [
    {
     "name": "stdout",
     "output_type": "stream",
     "text": [
      "[[1 2 3]\n",
      " [4 5 6]]\n",
      "<class 'numpy.ndarray'>\n",
      "<class 'numpy.ndarray'>\n",
      "<class 'numpy.int8'>\n"
     ]
    }
   ],
   "execution_count": 7
  },
  {
   "metadata": {
    "ExecuteTime": {
     "end_time": "2025-09-04T01:55:07.466238Z",
     "start_time": "2025-09-04T01:55:07.462197Z"
    }
   },
   "cell_type": "code",
   "source": [
    "from_2d_list = np.array((np.arange(0, 8, 2), np.arange(1, 8, 2)))\n",
    "\n",
    "print(from_2d_list)\n",
    "print(from_2d_list.shape)\n",
    "print(type(from_2d_list))\n",
    "print(type(from_2d_list[0]))\n",
    "print(type(from_2d_list[0][0]))"
   ],
   "id": "8b75360a53e05f7b",
   "outputs": [
    {
     "name": "stdout",
     "output_type": "stream",
     "text": [
      "[[0 2 4 6]\n",
      " [1 3 5 7]]\n",
      "(2, 4)\n",
      "<class 'numpy.ndarray'>\n",
      "<class 'numpy.ndarray'>\n",
      "<class 'numpy.int64'>\n"
     ]
    }
   ],
   "execution_count": 8
  },
  {
   "metadata": {
    "ExecuteTime": {
     "end_time": "2025-09-04T01:56:21.541846Z",
     "start_time": "2025-09-04T01:56:21.537276Z"
    }
   },
   "cell_type": "code",
   "source": [
    "from_2d_list = np.array((np.arange(0, 8, 2), np.arange(1, 8, 2)))\n",
    "from_2d_list = from_2d_list.reshape((4, 2))\n",
    "\n",
    "print(from_2d_list)\n",
    "print(from_2d_list.shape)\n",
    "print(type(from_2d_list))\n",
    "print(type(from_2d_list[0]))\n",
    "print(type(from_2d_list[0][0]))"
   ],
   "id": "417aac7909524d79",
   "outputs": [
    {
     "name": "stdout",
     "output_type": "stream",
     "text": [
      "[[0 2]\n",
      " [4 6]\n",
      " [1 3]\n",
      " [5 7]]\n",
      "(4, 2)\n",
      "<class 'numpy.ndarray'>\n",
      "<class 'numpy.ndarray'>\n",
      "<class 'numpy.int64'>\n"
     ]
    }
   ],
   "execution_count": 9
  },
  {
   "metadata": {
    "ExecuteTime": {
     "end_time": "2025-09-04T01:57:50.917591Z",
     "start_time": "2025-09-04T01:57:50.913723Z"
    }
   },
   "cell_type": "code",
   "source": [
    "from_2d_list = np.array((np.arange(0, 8, 2), np.arange(1, 8, 2)))\n",
    "from_2d_list = from_2d_list.reshape(8)\n",
    "\n",
    "print(from_2d_list)\n",
    "print(from_2d_list.shape)\n",
    "print(type(from_2d_list))\n",
    "print(type(from_2d_list[0]))"
   ],
   "id": "913803c87d2d9fe0",
   "outputs": [
    {
     "name": "stdout",
     "output_type": "stream",
     "text": [
      "[0 2 4 6 1 3 5 7]\n",
      "(8,)\n",
      "<class 'numpy.ndarray'>\n",
      "<class 'numpy.int64'>\n"
     ]
    }
   ],
   "execution_count": 12
  },
  {
   "metadata": {
    "ExecuteTime": {
     "end_time": "2025-09-04T01:58:41.180540Z",
     "start_time": "2025-09-04T01:58:41.174460Z"
    }
   },
   "cell_type": "code",
   "source": [
    "from_2d_list = np.array((np.arange(0, 8, 2), np.arange(1, 8, 2)))\n",
    "from_2d_list = from_2d_list.reshape((2, 1, 4))\n",
    "\n",
    "print(from_2d_list)\n",
    "print(from_2d_list.shape)\n",
    "print(type(from_2d_list))\n",
    "print(type(from_2d_list[0]))\n",
    "print(type(from_2d_list[0][0]))\n",
    "print(type(from_2d_list[0][0][0]))"
   ],
   "id": "232133d90c46f378",
   "outputs": [
    {
     "name": "stdout",
     "output_type": "stream",
     "text": [
      "[[[0 2 4 6]]\n",
      "\n",
      " [[1 3 5 7]]]\n",
      "(2, 1, 4)\n",
      "<class 'numpy.ndarray'>\n",
      "<class 'numpy.ndarray'>\n",
      "<class 'numpy.ndarray'>\n",
      "<class 'numpy.int64'>\n"
     ]
    }
   ],
   "execution_count": 14
  },
  {
   "metadata": {
    "ExecuteTime": {
     "end_time": "2025-09-04T01:59:38.996210Z",
     "start_time": "2025-09-04T01:59:38.992779Z"
    }
   },
   "cell_type": "code",
   "source": [
    "a = np.zeros((2, 2))\n",
    "\n",
    "print(a)"
   ],
   "id": "d210f9772f4eb969",
   "outputs": [
    {
     "name": "stdout",
     "output_type": "stream",
     "text": [
      "[[0. 0.]\n",
      " [0. 0.]]\n"
     ]
    }
   ],
   "execution_count": 16
  },
  {
   "metadata": {
    "ExecuteTime": {
     "end_time": "2025-09-04T01:59:50.517539Z",
     "start_time": "2025-09-04T01:59:50.514044Z"
    }
   },
   "cell_type": "code",
   "source": [
    "a = np.ones((2, 2))\n",
    "\n",
    "print(a)"
   ],
   "id": "c4b25ebfc9133a34",
   "outputs": [
    {
     "name": "stdout",
     "output_type": "stream",
     "text": [
      "[[1. 1.]\n",
      " [1. 1.]]\n"
     ]
    }
   ],
   "execution_count": 17
  },
  {
   "metadata": {
    "ExecuteTime": {
     "end_time": "2025-09-04T02:00:30.289095Z",
     "start_time": "2025-09-04T02:00:30.286234Z"
    }
   },
   "cell_type": "code",
   "source": [
    "a = np.empty((2, 2))\n",
    "\n",
    "print(a)"
   ],
   "id": "c5946b06334f4ec9",
   "outputs": [
    {
     "name": "stdout",
     "output_type": "stream",
     "text": [
      "[[1. 1.]\n",
      " [1. 1.]]\n"
     ]
    }
   ],
   "execution_count": 27
  },
  {
   "metadata": {
    "ExecuteTime": {
     "end_time": "2025-09-04T02:01:24.458519Z",
     "start_time": "2025-09-04T02:01:24.455826Z"
    }
   },
   "cell_type": "code",
   "source": [
    "a = np.eye(3)\n",
    "\n",
    "print(a)"
   ],
   "id": "5348cb85f5373c1",
   "outputs": [
    {
     "name": "stdout",
     "output_type": "stream",
     "text": [
      "[[1. 0. 0.]\n",
      " [0. 1. 0.]\n",
      " [0. 0. 1.]]\n"
     ]
    }
   ],
   "execution_count": 31
  },
  {
   "metadata": {
    "ExecuteTime": {
     "end_time": "2025-09-04T02:01:34.068491Z",
     "start_time": "2025-09-04T02:01:34.064646Z"
    }
   },
   "cell_type": "code",
   "source": [
    "a = np.eye(3, k=1)\n",
    "\n",
    "print(a)"
   ],
   "id": "409f40ddeb7df2a8",
   "outputs": [
    {
     "name": "stdout",
     "output_type": "stream",
     "text": [
      "[[0. 1. 0.]\n",
      " [0. 0. 1.]\n",
      " [0. 0. 0.]]\n"
     ]
    }
   ],
   "execution_count": 32
  },
  {
   "metadata": {
    "ExecuteTime": {
     "end_time": "2025-09-04T02:04:03.901161Z",
     "start_time": "2025-09-04T02:04:03.897472Z"
    }
   },
   "cell_type": "code",
   "source": [
    "a = np.eye(3, k=1)\n",
    "a[a == 0] = 2\n",
    "a[a < 2] = 9\n",
    "\n",
    "print(a)"
   ],
   "id": "c8801b8884432b49",
   "outputs": [
    {
     "name": "stdout",
     "output_type": "stream",
     "text": [
      "[[2. 9. 2.]\n",
      " [2. 2. 9.]\n",
      " [2. 2. 2.]]\n"
     ]
    }
   ],
   "execution_count": 36
  },
  {
   "metadata": {
    "ExecuteTime": {
     "end_time": "2025-09-04T02:04:05.160502Z",
     "start_time": "2025-09-04T02:04:05.157236Z"
    }
   },
   "cell_type": "code",
   "source": [
    "a = np.eye(3, k=1)\n",
    "a[0] = 3\n",
    "a[:2] = 3\n",
    "\n",
    "print(a)"
   ],
   "id": "efa2ed39972ce85d",
   "outputs": [
    {
     "name": "stdout",
     "output_type": "stream",
     "text": [
      "[[3. 3. 3.]\n",
      " [3. 3. 3.]\n",
      " [2. 2. 2.]]\n"
     ]
    }
   ],
   "execution_count": 37
  },
  {
   "metadata": {
    "ExecuteTime": {
     "end_time": "2025-09-04T02:05:48.064034Z",
     "start_time": "2025-09-04T02:05:48.060638Z"
    }
   },
   "cell_type": "code",
   "source": [
    "a = np.eye(3, k=1)\n",
    "a[:, 0] = 4\n",
    "\n",
    "print(a)"
   ],
   "id": "78cc175be81819d5",
   "outputs": [
    {
     "name": "stdout",
     "output_type": "stream",
     "text": [
      "[[4. 1. 0.]\n",
      " [4. 0. 1.]\n",
      " [4. 0. 0.]]\n"
     ]
    }
   ],
   "execution_count": 38
  },
  {
   "metadata": {
    "ExecuteTime": {
     "end_time": "2025-09-04T02:06:20.324991Z",
     "start_time": "2025-09-04T02:06:20.321864Z"
    }
   },
   "cell_type": "code",
   "source": [
    "a = np.eye(3, k=1)\n",
    "a[:, -1] = 4\n",
    "\n",
    "print(a)"
   ],
   "id": "e52a0a6e75cbc4a7",
   "outputs": [
    {
     "name": "stdout",
     "output_type": "stream",
     "text": [
      "[[0. 1. 4.]\n",
      " [0. 0. 4.]\n",
      " [0. 0. 4.]]\n"
     ]
    }
   ],
   "execution_count": 39
  },
  {
   "metadata": {
    "ExecuteTime": {
     "end_time": "2025-09-04T02:06:40.571702Z",
     "start_time": "2025-09-04T02:06:40.567055Z"
    }
   },
   "cell_type": "code",
   "source": [
    "a = np.eye(3, k=1)\n",
    "a[1:, :2] = 4\n",
    "\n",
    "print(a)"
   ],
   "id": "9f1bedc584976100",
   "outputs": [
    {
     "name": "stdout",
     "output_type": "stream",
     "text": [
      "[[0. 1. 0.]\n",
      " [4. 4. 1.]\n",
      " [4. 4. 0.]]\n"
     ]
    }
   ],
   "execution_count": 40
  },
  {
   "metadata": {
    "ExecuteTime": {
     "end_time": "2025-09-04T02:08:09.284611Z",
     "start_time": "2025-09-04T02:08:09.280302Z"
    }
   },
   "cell_type": "code",
   "source": [
    "a = np.eye(3, k=1)\n",
    "a[1:, :2] = 4\n",
    "s = np.sort(a)\n",
    "\n",
    "print(a, \"\\n\")\n",
    "print(s)"
   ],
   "id": "3fac7d58b47eb83b",
   "outputs": [
    {
     "name": "stdout",
     "output_type": "stream",
     "text": [
      "[[0. 1. 0.]\n",
      " [4. 4. 1.]\n",
      " [4. 4. 0.]] \n",
      "\n",
      "[[0. 0. 1.]\n",
      " [1. 4. 4.]\n",
      " [0. 4. 4.]]\n"
     ]
    }
   ],
   "execution_count": 43
  },
  {
   "metadata": {
    "ExecuteTime": {
     "end_time": "2025-09-04T02:09:08.244132Z",
     "start_time": "2025-09-04T02:09:08.240403Z"
    }
   },
   "cell_type": "code",
   "source": [
    "a = np.eye(3, k=1)\n",
    "a[1:, :2] = 4\n",
    "s = np.sort(a, 0)\n",
    "\n",
    "print(a, \"\\n\")\n",
    "print(s)"
   ],
   "id": "1ecb97fb78b6457b",
   "outputs": [
    {
     "name": "stdout",
     "output_type": "stream",
     "text": [
      "[[0. 1. 0.]\n",
      " [4. 4. 1.]\n",
      " [4. 4. 0.]] \n",
      "\n",
      "[[0. 1. 0.]\n",
      " [4. 4. 0.]\n",
      " [4. 4. 1.]]\n"
     ]
    }
   ],
   "execution_count": 44
  },
  {
   "metadata": {
    "ExecuteTime": {
     "end_time": "2025-09-04T02:09:44.705932Z",
     "start_time": "2025-09-04T02:09:44.700629Z"
    }
   },
   "cell_type": "code",
   "source": [
    "a = np.eye(3, k=1)\n",
    "a[1:, :2] = 4\n",
    "s = np.sort(a, 0, kind=\"mergesort\")\n",
    "\n",
    "print(a, \"\\n\")\n",
    "print(s)"
   ],
   "id": "8defd6b06b055160",
   "outputs": [
    {
     "name": "stdout",
     "output_type": "stream",
     "text": [
      "[[0. 1. 0.]\n",
      " [4. 4. 1.]\n",
      " [4. 4. 0.]] \n",
      "\n",
      "[[0. 1. 0.]\n",
      " [4. 4. 0.]\n",
      " [4. 4. 1.]]\n"
     ]
    }
   ],
   "execution_count": 45
  },
  {
   "metadata": {
    "ExecuteTime": {
     "end_time": "2025-09-04T02:12:21.043433Z",
     "start_time": "2025-09-04T02:12:21.038698Z"
    }
   },
   "cell_type": "code",
   "source": [
    "a = np.eye(3, k=1)\n",
    "a[1:, :2] = 4\n",
    "s = np.sort(a, 0, kind=\"mergesort\")\n",
    "\n",
    "copy1 = a.view() # shallow copy\n",
    "copy2 = a.copy() # deep copy\n",
    "\n",
    "copy1[:] = 4\n",
    "copy2[:] = 4\n",
    "\n",
    "print(a)\n",
    "print(copy1)\n",
    "print(copy2)"
   ],
   "id": "312f1b1ec12d33c5",
   "outputs": [
    {
     "name": "stdout",
     "output_type": "stream",
     "text": [
      "[[4. 4. 4.]\n",
      " [4. 4. 4.]\n",
      " [4. 4. 4.]]\n",
      "[[4. 4. 4.]\n",
      " [4. 4. 4.]\n",
      " [4. 4. 4.]]\n",
      "[[4. 4. 4.]\n",
      " [4. 4. 4.]\n",
      " [4. 4. 4.]]\n"
     ]
    }
   ],
   "execution_count": 47
  },
  {
   "metadata": {
    "ExecuteTime": {
     "end_time": "2025-09-04T02:17:23.570087Z",
     "start_time": "2025-09-04T02:17:23.564878Z"
    }
   },
   "cell_type": "code",
   "source": [
    "a = np.linspace(2, 10, 5)\n",
    "print(a)"
   ],
   "id": "ded77cfae3ed82f",
   "outputs": [
    {
     "name": "stdout",
     "output_type": "stream",
     "text": [
      "[ 2.  4.  6.  8. 10.]\n"
     ]
    }
   ],
   "execution_count": 49
  },
  {
   "metadata": {
    "ExecuteTime": {
     "end_time": "2025-09-04T02:20:55.417168Z",
     "start_time": "2025-09-04T02:20:55.388800Z"
    }
   },
   "cell_type": "code",
   "source": [
    "np.random.seed(0)\n",
    "r = np.random.randint(10, size=6)\n",
    "r"
   ],
   "id": "10352115183f0361",
   "outputs": [
    {
     "data": {
      "text/plain": [
       "array([5, 0, 3, 3, 7, 9])"
      ]
     },
     "execution_count": 50,
     "metadata": {},
     "output_type": "execute_result"
    }
   ],
   "execution_count": 50
  },
  {
   "metadata": {},
   "cell_type": "code",
   "outputs": [],
   "execution_count": null,
   "source": "",
   "id": "2c897eaff43edb2c"
  }
 ],
 "metadata": {
  "kernelspec": {
   "display_name": "Python 3",
   "language": "python",
   "name": "python3"
  },
  "language_info": {
   "codemirror_mode": {
    "name": "ipython",
    "version": 2
   },
   "file_extension": ".py",
   "mimetype": "text/x-python",
   "name": "python",
   "nbconvert_exporter": "python",
   "pygments_lexer": "ipython2",
   "version": "2.7.6"
  }
 },
 "nbformat": 4,
 "nbformat_minor": 5
}
